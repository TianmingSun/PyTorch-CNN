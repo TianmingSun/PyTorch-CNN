{
 "cells": [
  {
   "cell_type": "markdown",
   "metadata": {},
   "source": [
    "# PyTorch CNN\n",
    "> Example on MNIST dataset."
   ]
  },
  {
   "cell_type": "code",
   "execution_count": 20,
   "metadata": {},
   "outputs": [],
   "source": [
    "import numpy as np\n",
    "import MNISTtools\n",
    "import matplotlib as pyplot\n",
    "import torch\n",
    "import torch.nn as nn\n",
    "import torch.nn.functional as F"
   ]
  },
  {
   "cell_type": "markdown",
   "metadata": {},
   "source": [
    "* Load MNIST data\n",
    "* Normalize and reshape input data\n",
    "* Reshape data dimension to suit satisfy PyTorch function, and transform data to torch tensor."
   ]
  },
  {
   "cell_type": "code",
   "execution_count": 21,
   "metadata": {},
   "outputs": [],
   "source": [
    "def normalize_MNIST_images(x):\n",
    "    x = x.astype(np.float32)\n",
    "    MAX = np.max(x)\n",
    "    MIN = np.min(x)\n",
    "    x = - 1 + 2 * ( x - MIN) / ( MAX - MIN)\n",
    "    return x\n",
    "\n",
    "xtrain, ltrain = MNISTtools.load(dataset=\"training\")\n",
    "xtest, ltest = MNISTtools.load(dataset=\"testing\")\n",
    "xtrain = normalize_MNIST_images(xtrain)\n",
    "xtest = normalize_MNIST_images(xtest)\n",
    "\n",
    "xtrain = xtrain.reshape(28,28,1,60000) # (28,28,60000) => (28,28,1,60000)\n",
    "xtrain = np.moveaxis(xtrain,[2,3],[1,0]) # (28,28,1,60000) => (60000,1,28,28)\n",
    "xtest = xtest.reshape(28,28,1,10000)\n",
    "xtest = np.moveaxis(xtest,[2,3],[1,0])\n",
    "\n",
    "xtrain = torch.from_numpy(xtrain)\n",
    "ltrain = torch.from_numpy(ltrain)\n",
    "xtest = torch.from_numpy(xtest)\n",
    "ltest = torch.from_numpy(ltest)"
   ]
  },
  {
   "cell_type": "markdown",
   "metadata": {},
   "source": [
    "* Build network by inheriting from PyTorch class nn.Module"
   ]
  },
  {
   "cell_type": "code",
   "execution_count": 22,
   "metadata": {},
   "outputs": [],
   "source": [
    "class LeNet(nn.Module):\n",
    "    \n",
    "    # Initial the network structure\n",
    "    def __init__(self):\n",
    "        super(LeNet, self).__init__()\n",
    "        self.conv1 = nn.Conv2d(1, 6, 5)\n",
    "        self.conv2 = nn.Conv2d(6, 16, 5)\n",
    "        self.fc1 = nn.Linear(256, 120)\n",
    "        self.fc2 = nn.Linear(120, 84)\n",
    "        self.fc3 = nn.Linear(84, 10)\n",
    "    \n",
    "    # Define forward\n",
    "    def forward(self, x):\n",
    "        x = F.max_pool2d(F.relu(self.conv1(x)), (2, 2))\n",
    "        x = F.max_pool2d(F.relu(self.conv2(x)), 2)\n",
    "        x = x.view(-1, self.num_flat_features(x))\n",
    "        x = F.relu(self.fc1(x))\n",
    "        x = F.relu(self.fc2(x))\n",
    "        x = self.fc3(x)\n",
    "        return x\n",
    "\n",
    "    # Flatten for linear layers\n",
    "    def num_flat_features(self, x ):\n",
    "        size = x.size()[1:]\n",
    "        return np.prod(size)"
   ]
  },
  {
   "cell_type": "markdown",
   "metadata": {},
   "source": [
    "* Define network training process"
   ]
  },
  {
   "cell_type": "code",
   "execution_count": 23,
   "metadata": {},
   "outputs": [],
   "source": [
    "def train(xtrain, ltrain, net, T, B=100, gamma=.001, rho=.9):\n",
    "    N = xtrain.size()[0] # Training set size\n",
    "    NB = N // B # Number of minibatches\n",
    "    criterion = nn.CrossEntropyLoss()\n",
    "    optimizer = torch.optim.SGD(net.parameters(), lr=gamma, momentum=rho)\n",
    "    for epoch in range(T):\n",
    "        running_loss = 0.0\n",
    "        shuffled_indices = np.random.permutation(NB)\n",
    "        for k in range(NB):\n",
    "            # Extract k-th minibatch from xtrain and ltrain\n",
    "            minibatch_indices = range(B*shuffled_indices[k], B*(shuffled_indices[k]+1))\n",
    "            inputs = xtrain[minibatch_indices]\n",
    "            labels = ltrain[minibatch_indices]\n",
    "            \n",
    "            # Initialize the gradients to zero\n",
    "            optimizer.zero_grad()\n",
    "\n",
    "            # Forward propagation\n",
    "            outputs = net(inputs)\n",
    "\n",
    "            # Error evaluation\n",
    "            loss = criterion(outputs, labels)\n",
    "\n",
    "            # Back propagation\n",
    "            loss.backward()\n",
    "\n",
    "            # Parameter update\n",
    "            optimizer.step()\n",
    "\n",
    "            # Print averaged loss per minibatch every 100 mini-batches\n",
    "            # Compute and print statistics\n",
    "            with torch.no_grad():\n",
    "                running_loss += loss.item()\n",
    "            if k % 100 == 99:\n",
    "                print('[%d, %5d] loss: %.3f' %\n",
    "                      (epoch + 1, k + 1, running_loss / 100))\n",
    "                running_loss = 0.0\n",
    "    print('Finished!')"
   ]
  },
  {
   "cell_type": "markdown",
   "metadata": {},
   "source": [
    "* Start a training (CUDA)"
   ]
  },
  {
   "cell_type": "code",
   "execution_count": 27,
   "metadata": {},
   "outputs": [
    {
     "name": "stdout",
     "output_type": "stream",
     "text": [
      "The device using for the training is: cuda\n",
      "[1,   100] loss: 2.299\n",
      "[1,   200] loss: 2.284\n",
      "[1,   300] loss: 2.261\n",
      "[1,   400] loss: 2.211\n",
      "[1,   500] loss: 2.041\n",
      "[1,   600] loss: 1.407\n",
      "[2,   100] loss: 0.794\n",
      "[2,   200] loss: 0.613\n",
      "[2,   300] loss: 0.511\n",
      "[2,   400] loss: 0.473\n",
      "[2,   500] loss: 0.371\n",
      "[2,   600] loss: 0.377\n",
      "[3,   100] loss: 0.348\n",
      "[3,   200] loss: 0.321\n",
      "[3,   300] loss: 0.314\n",
      "[3,   400] loss: 0.276\n",
      "[3,   500] loss: 0.271\n",
      "[3,   600] loss: 0.258\n",
      "[4,   100] loss: 0.238\n",
      "[4,   200] loss: 0.225\n",
      "[4,   300] loss: 0.222\n",
      "[4,   400] loss: 0.208\n",
      "[4,   500] loss: 0.204\n",
      "[4,   600] loss: 0.182\n",
      "[5,   100] loss: 0.180\n",
      "[5,   200] loss: 0.187\n",
      "[5,   300] loss: 0.170\n",
      "[5,   400] loss: 0.159\n",
      "[5,   500] loss: 0.146\n",
      "[5,   600] loss: 0.157\n",
      "[6,   100] loss: 0.152\n",
      "[6,   200] loss: 0.156\n",
      "[6,   300] loss: 0.139\n",
      "[6,   400] loss: 0.134\n",
      "[6,   500] loss: 0.133\n",
      "[6,   600] loss: 0.132\n",
      "[7,   100] loss: 0.125\n",
      "[7,   200] loss: 0.124\n",
      "[7,   300] loss: 0.123\n",
      "[7,   400] loss: 0.117\n",
      "[7,   500] loss: 0.116\n",
      "[7,   600] loss: 0.128\n",
      "[8,   100] loss: 0.115\n",
      "[8,   200] loss: 0.124\n",
      "[8,   300] loss: 0.100\n",
      "[8,   400] loss: 0.099\n",
      "[8,   500] loss: 0.104\n",
      "[8,   600] loss: 0.107\n",
      "[9,   100] loss: 0.107\n",
      "[9,   200] loss: 0.104\n",
      "[9,   300] loss: 0.095\n",
      "[9,   400] loss: 0.090\n",
      "[9,   500] loss: 0.095\n",
      "[9,   600] loss: 0.095\n",
      "[10,   100] loss: 0.084\n",
      "[10,   200] loss: 0.090\n",
      "[10,   300] loss: 0.095\n",
      "[10,   400] loss: 0.093\n",
      "[10,   500] loss: 0.094\n",
      "[10,   600] loss: 0.088\n",
      "Finished!\n",
      "The final accuracy is: tensor(97.3300, device='cuda:0')\n"
     ]
    }
   ],
   "source": [
    "device = 'cuda' if torch.cuda.is_available() else 'cpu'\n",
    "print('The device using for the training is:',device)\n",
    "\n",
    "net = LeNet().to(device)\n",
    "xtrain = xtrain.to(device)\n",
    "ltrain = ltrain.to(device, dtype=torch.int64)\n",
    "xtest = xtest.to(device)\n",
    "ltest = ltest.to(device, dtype=torch.int64)\n",
    "train(xtrain, ltrain, net, T=10)\n",
    "\n",
    "y = net(xtest)\n",
    "_, lpred = y.max(1)\n",
    "print('The final accuracy is:',100 * (ltest == lpred).float().mean())"
   ]
  }
 ],
 "metadata": {
  "kernelspec": {
   "display_name": "Python 3",
   "language": "python",
   "name": "python3"
  },
  "language_info": {
   "codemirror_mode": {
    "name": "ipython",
    "version": 3
   },
   "file_extension": ".py",
   "mimetype": "text/x-python",
   "name": "python",
   "nbconvert_exporter": "python",
   "pygments_lexer": "ipython3",
   "version": "3.7.3"
  }
 },
 "nbformat": 4,
 "nbformat_minor": 2
}
